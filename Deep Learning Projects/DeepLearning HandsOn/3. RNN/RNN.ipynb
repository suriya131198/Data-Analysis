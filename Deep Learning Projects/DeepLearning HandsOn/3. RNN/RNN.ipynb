{
 "cells": [
  {
   "cell_type": "markdown",
   "id": "6ee2e52b",
   "metadata": {},
   "source": [
    "# Recurrent Neural Network"
   ]
  },
  {
   "cell_type": "markdown",
   "id": "79766c09",
   "metadata": {},
   "source": [
    "## Part 1 - Data Preprocessing"
   ]
  },
  {
   "cell_type": "markdown",
   "id": "0ecfbf80",
   "metadata": {},
   "source": [
    "### Importing the Libraries"
   ]
  },
  {
   "cell_type": "code",
   "execution_count": 10,
   "id": "09e94a03",
   "metadata": {},
   "outputs": [],
   "source": [
    "import pandas as pd\n",
    "import numpy as np\n",
    "import matplotlib.pyplot as plt"
   ]
  },
  {
   "cell_type": "markdown",
   "id": "1a33cecd",
   "metadata": {},
   "source": [
    "### Importing the dataset"
   ]
  },
  {
   "cell_type": "code",
   "execution_count": 11,
   "id": "76b87b76",
   "metadata": {},
   "outputs": [],
   "source": [
    "dataset_train = pd.read_csv(\"Google_Stock_Price_Train.csv\")\n",
    "training_set =dataset_train.iloc[:, 1:2].values"
   ]
  },
  {
   "cell_type": "markdown",
   "id": "ac7008e8",
   "metadata": {},
   "source": [
    "### Feature Scaling"
   ]
  },
  {
   "cell_type": "code",
   "execution_count": 12,
   "id": "8ad8216b",
   "metadata": {},
   "outputs": [],
   "source": [
    "from sklearn.preprocessing import MinMaxScaler\n",
    "sc = MinMaxScaler(feature_range=(0,1))\n",
    "training_set_scaled = sc.fit_transform(training_set)"
   ]
  },
  {
   "cell_type": "markdown",
   "id": "54c3ea4d",
   "metadata": {},
   "source": [
    "### Creating a data structure with 60 timesteps and 1 output"
   ]
  },
  {
   "cell_type": "code",
   "execution_count": 13,
   "id": "2973e53d",
   "metadata": {},
   "outputs": [],
   "source": [
    "x_train = []\n",
    "y_train = []\n",
    "for i in range(60, 1258):\n",
    "    x_train.append(training_set_scaled[i-60:i, 0])\n",
    "    y_train.append(training_set_scaled[i, 0])\n",
    "x_train, y_train = np.array(x_train), np.array(y_train)"
   ]
  },
  {
   "cell_type": "markdown",
   "id": "071f2612",
   "metadata": {},
   "source": [
    "### Reshaping the Data"
   ]
  },
  {
   "cell_type": "code",
   "execution_count": 14,
   "id": "c27be5d8",
   "metadata": {},
   "outputs": [],
   "source": [
    "x_train = np.reshape(x_train, (x_train.shape[0], x_train.shape[1], 1))"
   ]
  },
  {
   "cell_type": "markdown",
   "id": "6a3cf0c4",
   "metadata": {},
   "source": [
    "## Part 2 - Building the RNN"
   ]
  },
  {
   "cell_type": "markdown",
   "id": "b2b28f05",
   "metadata": {},
   "source": [
    "### Importing the Keras Libraries"
   ]
  },
  {
   "cell_type": "code",
   "execution_count": 15,
   "id": "a456857d",
   "metadata": {},
   "outputs": [],
   "source": [
    "from keras.models import Sequential\n",
    "from keras.layers import Dense\n",
    "from keras.layers import LSTM\n",
    "from keras.layers import Dropout"
   ]
  },
  {
   "cell_type": "markdown",
   "id": "3ff36321",
   "metadata": {},
   "source": [
    "### Initializing the RNN"
   ]
  },
  {
   "cell_type": "code",
   "execution_count": 16,
   "id": "411c3f49",
   "metadata": {},
   "outputs": [],
   "source": [
    "regressor = Sequential()"
   ]
  },
  {
   "cell_type": "markdown",
   "id": "ed75920d",
   "metadata": {},
   "source": [
    "### Adding the First LSTM Layer some and Dropout Regularisation"
   ]
  },
  {
   "cell_type": "code",
   "execution_count": 17,
   "id": "7dc24967",
   "metadata": {},
   "outputs": [],
   "source": [
    "regressor.add(LSTM(units = 50, return_sequences = True, input_shape = (x_train.shape[1], 1)))\n",
    "regressor.add(Dropout(0.2))"
   ]
  },
  {
   "cell_type": "markdown",
   "id": "c5db8bdf",
   "metadata": {},
   "source": [
    "### Adding the Second LSTM Layer some and Dropout Regularisation"
   ]
  },
  {
   "cell_type": "code",
   "execution_count": 18,
   "id": "3a548bd6",
   "metadata": {},
   "outputs": [],
   "source": [
    "regressor.add(LSTM(units = 50, return_sequences = True))\n",
    "regressor.add(Dropout(0.2))"
   ]
  },
  {
   "cell_type": "markdown",
   "id": "4e13412d",
   "metadata": {},
   "source": [
    "### Adding the Third LSTM Layer some and Dropout Regularisation"
   ]
  },
  {
   "cell_type": "code",
   "execution_count": 19,
   "id": "69b14054",
   "metadata": {},
   "outputs": [],
   "source": [
    "regressor.add(LSTM(units = 50, return_sequences = True))\n",
    "regressor.add(Dropout(0.2))"
   ]
  },
  {
   "cell_type": "markdown",
   "id": "fe97c1f1",
   "metadata": {},
   "source": [
    "### Adding the Fourth LSTM Layer some and Dropout Regularisation"
   ]
  },
  {
   "cell_type": "code",
   "execution_count": 20,
   "id": "c33bf920",
   "metadata": {},
   "outputs": [],
   "source": [
    "regressor.add(LSTM(units = 50))\n",
    "regressor.add(Dropout(0.2))"
   ]
  },
  {
   "cell_type": "markdown",
   "id": "c5948f70",
   "metadata": {},
   "source": [
    "### Adding the Output Layer"
   ]
  },
  {
   "cell_type": "code",
   "execution_count": 21,
   "id": "7186f48f",
   "metadata": {},
   "outputs": [],
   "source": [
    "regressor.add(Dense(units = 1))"
   ]
  },
  {
   "cell_type": "markdown",
   "id": "6b9ed9cb",
   "metadata": {},
   "source": [
    "### Compiling the RNN"
   ]
  },
  {
   "cell_type": "code",
   "execution_count": 22,
   "id": "0b766495",
   "metadata": {},
   "outputs": [
    {
     "name": "stdout",
     "output_type": "stream",
     "text": [
      "WARNING:tensorflow:From C:\\Users\\suriya.palanivel\\Anaconda3\\lib\\site-packages\\keras\\src\\optimizers\\__init__.py:309: The name tf.train.Optimizer is deprecated. Please use tf.compat.v1.train.Optimizer instead.\n",
      "\n"
     ]
    }
   ],
   "source": [
    "regressor.compile(optimizer = \"adam\", loss = \"mean_squared_error\")"
   ]
  },
  {
   "cell_type": "markdown",
   "id": "a6a20e96",
   "metadata": {},
   "source": [
    "### Fitting the RNN into the Training set"
   ]
  },
  {
   "cell_type": "code",
   "execution_count": 23,
   "id": "460155d1",
   "metadata": {},
   "outputs": [
    {
     "name": "stdout",
     "output_type": "stream",
     "text": [
      "Epoch 1/100\n",
      "WARNING:tensorflow:From C:\\Users\\suriya.palanivel\\Anaconda3\\lib\\site-packages\\keras\\src\\utils\\tf_utils.py:492: The name tf.ragged.RaggedTensorValue is deprecated. Please use tf.compat.v1.ragged.RaggedTensorValue instead.\n",
      "\n",
      "38/38 [==============================] - 16s 108ms/step - loss: 0.0482\n",
      "Epoch 2/100\n",
      "38/38 [==============================] - 4s 115ms/step - loss: 0.0066\n",
      "Epoch 3/100\n",
      "38/38 [==============================] - 5s 131ms/step - loss: 0.0060\n",
      "Epoch 4/100\n",
      "38/38 [==============================] - 4s 104ms/step - loss: 0.0054\n",
      "Epoch 5/100\n",
      "38/38 [==============================] - 4s 102ms/step - loss: 0.0053\n",
      "Epoch 6/100\n",
      "38/38 [==============================] - 5s 120ms/step - loss: 0.0047\n",
      "Epoch 7/100\n",
      "38/38 [==============================] - 4s 117ms/step - loss: 0.0048\n",
      "Epoch 8/100\n",
      "38/38 [==============================] - 4s 109ms/step - loss: 0.0052\n",
      "Epoch 9/100\n",
      "38/38 [==============================] - 4s 107ms/step - loss: 0.0044\n",
      "Epoch 10/100\n",
      "38/38 [==============================] - 5s 122ms/step - loss: 0.0041\n",
      "Epoch 11/100\n",
      "38/38 [==============================] - 4s 112ms/step - loss: 0.0044\n",
      "Epoch 12/100\n",
      "38/38 [==============================] - 5s 119ms/step - loss: 0.0038\n",
      "Epoch 13/100\n",
      "38/38 [==============================] - 6s 156ms/step - loss: 0.0040\n",
      "Epoch 14/100\n",
      "38/38 [==============================] - 6s 148ms/step - loss: 0.0038\n",
      "Epoch 15/100\n",
      "38/38 [==============================] - 4s 105ms/step - loss: 0.0045\n",
      "Epoch 16/100\n",
      "38/38 [==============================] - 5s 126ms/step - loss: 0.0042\n",
      "Epoch 17/100\n",
      "38/38 [==============================] - 5s 124ms/step - loss: 0.0037\n",
      "Epoch 18/100\n",
      "38/38 [==============================] - 4s 104ms/step - loss: 0.0035\n",
      "Epoch 19/100\n",
      "38/38 [==============================] - 4s 108ms/step - loss: 0.0036\n",
      "Epoch 20/100\n",
      "38/38 [==============================] - 5s 123ms/step - loss: 0.0038\n",
      "Epoch 21/100\n",
      "38/38 [==============================] - 5s 123ms/step - loss: 0.0031\n",
      "Epoch 22/100\n",
      "38/38 [==============================] - 4s 103ms/step - loss: 0.0035\n",
      "Epoch 23/100\n",
      "38/38 [==============================] - 4s 110ms/step - loss: 0.0036\n",
      "Epoch 24/100\n",
      "38/38 [==============================] - 5s 123ms/step - loss: 0.0032\n",
      "Epoch 25/100\n",
      "38/38 [==============================] - 5s 127ms/step - loss: 0.0033\n",
      "Epoch 26/100\n",
      "38/38 [==============================] - 5s 125ms/step - loss: 0.0029\n",
      "Epoch 27/100\n",
      "38/38 [==============================] - 6s 163ms/step - loss: 0.0030\n",
      "Epoch 28/100\n",
      "38/38 [==============================] - 4s 117ms/step - loss: 0.0031\n",
      "Epoch 29/100\n",
      "38/38 [==============================] - 4s 107ms/step - loss: 0.0029\n",
      "Epoch 30/100\n",
      "38/38 [==============================] - 5s 123ms/step - loss: 0.0031\n",
      "Epoch 31/100\n",
      "38/38 [==============================] - 5s 125ms/step - loss: 0.0026\n",
      "Epoch 32/100\n",
      "38/38 [==============================] - 4s 103ms/step - loss: 0.0032\n",
      "Epoch 33/100\n",
      "38/38 [==============================] - 4s 109ms/step - loss: 0.0027\n",
      "Epoch 34/100\n",
      "38/38 [==============================] - 5s 123ms/step - loss: 0.0027\n",
      "Epoch 35/100\n",
      "38/38 [==============================] - 4s 116ms/step - loss: 0.0025\n",
      "Epoch 36/100\n",
      "38/38 [==============================] - 4s 108ms/step - loss: 0.0027\n",
      "Epoch 37/100\n",
      "38/38 [==============================] - 4s 109ms/step - loss: 0.0027\n",
      "Epoch 38/100\n",
      "38/38 [==============================] - 6s 151ms/step - loss: 0.0029\n",
      "Epoch 39/100\n",
      "38/38 [==============================] - 5s 132ms/step - loss: 0.0026\n",
      "Epoch 40/100\n",
      "38/38 [==============================] - 5s 129ms/step - loss: 0.0027\n",
      "Epoch 41/100\n",
      "38/38 [==============================] - 5s 131ms/step - loss: 0.0028\n",
      "Epoch 42/100\n",
      "38/38 [==============================] - 4s 112ms/step - loss: 0.0030\n",
      "Epoch 43/100\n",
      "38/38 [==============================] - 4s 106ms/step - loss: 0.0024\n",
      "Epoch 44/100\n",
      "38/38 [==============================] - 4s 113ms/step - loss: 0.0025\n",
      "Epoch 45/100\n",
      "38/38 [==============================] - 5s 130ms/step - loss: 0.0026\n",
      "Epoch 46/100\n",
      "38/38 [==============================] - 4s 107ms/step - loss: 0.0025\n",
      "Epoch 47/100\n",
      "38/38 [==============================] - 4s 101ms/step - loss: 0.0024\n",
      "Epoch 48/100\n",
      "38/38 [==============================] - 5s 122ms/step - loss: 0.0022\n",
      "Epoch 49/100\n",
      "38/38 [==============================] - 5s 120ms/step - loss: 0.0024\n",
      "Epoch 50/100\n",
      "38/38 [==============================] - 4s 102ms/step - loss: 0.0023\n",
      "Epoch 51/100\n",
      "38/38 [==============================] - 4s 118ms/step - loss: 0.0022\n",
      "Epoch 52/100\n",
      "38/38 [==============================] - 6s 158ms/step - loss: 0.0023\n",
      "Epoch 53/100\n",
      "38/38 [==============================] - 5s 135ms/step - loss: 0.0024\n",
      "Epoch 54/100\n",
      "38/38 [==============================] - 5s 130ms/step - loss: 0.0022\n",
      "Epoch 55/100\n",
      "38/38 [==============================] - 5s 130ms/step - loss: 0.0023\n",
      "Epoch 56/100\n",
      "38/38 [==============================] - 4s 117ms/step - loss: 0.0020\n",
      "Epoch 57/100\n",
      "38/38 [==============================] - 4s 109ms/step - loss: 0.0023\n",
      "Epoch 58/100\n",
      "38/38 [==============================] - 5s 121ms/step - loss: 0.0023\n",
      "Epoch 59/100\n",
      "38/38 [==============================] - 5s 124ms/step - loss: 0.0022\n",
      "Epoch 60/100\n",
      "38/38 [==============================] - 4s 106ms/step - loss: 0.0020\n",
      "Epoch 61/100\n",
      "38/38 [==============================] - 4s 106ms/step - loss: 0.0020\n",
      "Epoch 62/100\n",
      "38/38 [==============================] - 5s 129ms/step - loss: 0.0021\n",
      "Epoch 63/100\n",
      "38/38 [==============================] - 5s 118ms/step - loss: 0.0021\n",
      "Epoch 64/100\n",
      "38/38 [==============================] - 5s 128ms/step - loss: 0.0019\n",
      "Epoch 65/100\n",
      "38/38 [==============================] - 6s 159ms/step - loss: 0.0019\n",
      "Epoch 66/100\n",
      "38/38 [==============================] - 5s 144ms/step - loss: 0.0019\n",
      "Epoch 67/100\n",
      "38/38 [==============================] - 4s 105ms/step - loss: 0.0019\n",
      "Epoch 68/100\n",
      "38/38 [==============================] - 5s 128ms/step - loss: 0.0017\n",
      "Epoch 69/100\n",
      "38/38 [==============================] - 5s 128ms/step - loss: 0.0020\n",
      "Epoch 70/100\n",
      "38/38 [==============================] - 4s 105ms/step - loss: 0.0017\n",
      "Epoch 71/100\n",
      "38/38 [==============================] - 4s 107ms/step - loss: 0.0017\n",
      "Epoch 72/100\n",
      "38/38 [==============================] - 5s 130ms/step - loss: 0.0016\n",
      "Epoch 73/100\n",
      "38/38 [==============================] - 5s 121ms/step - loss: 0.0017\n",
      "Epoch 74/100\n",
      "38/38 [==============================] - 4s 112ms/step - loss: 0.0017\n",
      "Epoch 75/100\n",
      "38/38 [==============================] - 5s 129ms/step - loss: 0.0019\n",
      "Epoch 76/100\n",
      "38/38 [==============================] - 6s 150ms/step - loss: 0.0016\n",
      "Epoch 77/100\n",
      "38/38 [==============================] - 6s 160ms/step - loss: 0.0018\n",
      "Epoch 78/100\n",
      "38/38 [==============================] - 7s 178ms/step - loss: 0.0015\n",
      "Epoch 79/100\n",
      "38/38 [==============================] - 5s 132ms/step - loss: 0.0018\n",
      "Epoch 80/100\n",
      "38/38 [==============================] - 4s 117ms/step - loss: 0.0017\n",
      "Epoch 81/100\n",
      "38/38 [==============================] - 5s 133ms/step - loss: 0.0018\n",
      "Epoch 82/100\n",
      "38/38 [==============================] - 4s 118ms/step - loss: 0.0016\n",
      "Epoch 83/100\n",
      "38/38 [==============================] - 4s 106ms/step - loss: 0.0015\n",
      "Epoch 84/100\n",
      "38/38 [==============================] - 4s 108ms/step - loss: 0.0016\n",
      "Epoch 85/100\n",
      "38/38 [==============================] - 5s 132ms/step - loss: 0.0015\n",
      "Epoch 86/100\n",
      "38/38 [==============================] - 4s 112ms/step - loss: 0.0017\n",
      "Epoch 87/100\n",
      "38/38 [==============================] - 4s 103ms/step - loss: 0.0016\n",
      "Epoch 88/100\n",
      "38/38 [==============================] - 4s 116ms/step - loss: 0.0018\n",
      "Epoch 89/100\n",
      "38/38 [==============================] - 5s 138ms/step - loss: 0.0015\n",
      "Epoch 90/100\n",
      "38/38 [==============================] - 5s 126ms/step - loss: 0.0017\n",
      "Epoch 91/100\n",
      "38/38 [==============================] - 5s 141ms/step - loss: 0.0015\n",
      "Epoch 92/100\n",
      "38/38 [==============================] - 5s 132ms/step - loss: 0.0015\n",
      "Epoch 93/100\n",
      "38/38 [==============================] - 4s 109ms/step - loss: 0.0015\n",
      "Epoch 94/100\n",
      "38/38 [==============================] - 4s 104ms/step - loss: 0.0016\n",
      "Epoch 95/100\n",
      "38/38 [==============================] - 5s 136ms/step - loss: 0.0014\n",
      "Epoch 96/100\n",
      "38/38 [==============================] - 5s 123ms/step - loss: 0.0014\n",
      "Epoch 97/100\n"
     ]
    },
    {
     "name": "stdout",
     "output_type": "stream",
     "text": [
      "38/38 [==============================] - 4s 95ms/step - loss: 0.0015\n",
      "Epoch 98/100\n",
      "38/38 [==============================] - 4s 98ms/step - loss: 0.0015\n",
      "Epoch 99/100\n",
      "38/38 [==============================] - 5s 119ms/step - loss: 0.0014\n",
      "Epoch 100/100\n",
      "38/38 [==============================] - 4s 108ms/step - loss: 0.0013\n"
     ]
    },
    {
     "data": {
      "text/plain": [
       "<keras.src.callbacks.History at 0x16d4551c970>"
      ]
     },
     "execution_count": 23,
     "metadata": {},
     "output_type": "execute_result"
    }
   ],
   "source": [
    "regressor.fit(x_train, y_train, epochs = 100, batch_size = 32)"
   ]
  },
  {
   "cell_type": "markdown",
   "id": "e29206a0",
   "metadata": {},
   "source": [
    "## Part 3 - Making the Predictions and Visuvalising the Results"
   ]
  },
  {
   "cell_type": "markdown",
   "id": "a540d09b",
   "metadata": {},
   "source": [
    "### Getting the real stock price of google of 2017"
   ]
  },
  {
   "cell_type": "code",
   "execution_count": 24,
   "id": "79c7342c",
   "metadata": {},
   "outputs": [],
   "source": [
    "dataset_test = pd.read_csv(\"Google_Stock_Price_Test.csv\")\n",
    "real_stock_price =dataset_test.iloc[:, 1:2].values"
   ]
  },
  {
   "cell_type": "markdown",
   "id": "afba5476",
   "metadata": {},
   "source": [
    "### Getting the predicted stock price of google of 2017"
   ]
  },
  {
   "cell_type": "code",
   "execution_count": 25,
   "id": "08ce36b6",
   "metadata": {},
   "outputs": [
    {
     "name": "stdout",
     "output_type": "stream",
     "text": [
      "1/1 [==============================] - 2s 2s/step\n"
     ]
    }
   ],
   "source": [
    "dataset_total = pd.concat((dataset_train['Open'], dataset_test['Open']), axis = 0)\n",
    "inputs = dataset_total[len(dataset_total) - len(dataset_test) - 60:].values\n",
    "inputs = inputs.reshape(-1, 1)\n",
    "inputs = sc.transform(inputs)\n",
    "x_test = []\n",
    "for i in range(60, 80):\n",
    "    x_test.append(inputs[i-60:i, 0])\n",
    "x_test = np.array(x_test)\n",
    "x_test = np.reshape(x_test, (x_test.shape[0], x_test.shape[1], 1))\n",
    "predicted_stock_price = regressor.predict(x_test)\n",
    "predicted_stock_price = sc.inverse_transform(predicted_stock_price)\n"
   ]
  },
  {
   "cell_type": "markdown",
   "id": "8941752a",
   "metadata": {},
   "source": [
    "### Visuvalising the Results"
   ]
  },
  {
   "cell_type": "code",
   "execution_count": 26,
   "id": "46aed198",
   "metadata": {},
   "outputs": [
    {
     "data": {
      "image/png": "[encoded data removed]",
      "text/plain": [
       "<Figure size 640x480 with 1 Axes>"
      ]
     },
     "metadata": {},
     "output_type": "display_data"
    }
   ],
   "source": [
    "plt.plot(real_stock_price, color = 'red', label = 'Real Google Stock Price')\n",
    "plt.plot(predicted_stock_price, color = 'blue', label = 'Predicted Google Stock Price')\n",
    "plt.title('Google Stock Price Prediction')\n",
    "plt.xlabel('Time')\n",
    "plt.ylabel('Google Stock    Price')\n",
    "plt.legend()\n",
    "plt.show()"
   ]
  },
  {
   "cell_type": "code",
   "execution_count": null,
   "id": "3a04d58d",
   "metadata": {},
   "outputs": [],
   "source": []
  }
 ],
 "metadata": {
  "kernelspec": {
   "display_name": "Python 3 (ipykernel)",
   "language": "python",
   "name": "python3"
  },
  "language_info": {
   "codemirror_mode": {
    "name": "ipython",
    "version": 3
   },
   "file_extension": ".py",
   "mimetype": "text/x-python",
   "name": "python",
   "nbconvert_exporter": "python",
   "pygments_lexer": "ipython3",
   "version": "3.9.13"
  }
 },
 "nbformat": 4,
 "nbformat_minor": 5
}
