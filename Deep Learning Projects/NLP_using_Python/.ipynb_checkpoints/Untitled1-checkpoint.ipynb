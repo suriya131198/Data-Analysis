{
 "cells": [
  {
   "cell_type": "code",
   "execution_count": null,
   "id": "09fbfa71-0983-4532-bccd-73b32c8cba6c",
   "metadata": {
    "tags": []
   },
   "outputs": [],
   "source": [
    "!pip install flair"
   ]
  }
 ],
 "metadata": {
  "kernelspec": {
   "display_name": "ML",
   "language": "python",
   "name": "ml"
  },
  "language_info": {
   "name": ""
  }
 },
 "nbformat": 4,
 "nbformat_minor": 5
}
