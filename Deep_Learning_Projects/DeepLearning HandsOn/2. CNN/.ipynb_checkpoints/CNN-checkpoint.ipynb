{
 "cells": [
  {
   "cell_type": "markdown",
   "id": "1ff33488",
   "metadata": {},
   "source": [
    "# Convolution Neural Network"
   ]
  },
  {
   "cell_type": "markdown",
   "id": "e498c489",
   "metadata": {},
   "source": [
    "## Importing the Libraries"
   ]
  },
  {
   "cell_type": "code",
   "execution_count": 53,
   "id": "3885e5df",
   "metadata": {},
   "outputs": [],
   "source": [
    "import pandas as pd\n",
    "import numpy as np\n",
    "import tensorflow as tf\n",
    "from keras.preprocessing.image import ImageDataGenerator"
   ]
  },
  {
   "cell_type": "code",
   "execution_count": 54,
   "id": "827aa033",
   "metadata": {},
   "outputs": [
    {
     "data": {
      "text/plain": [
       "'2.15.0'"
      ]
     },
     "execution_count": 54,
     "metadata": {},
     "output_type": "execute_result"
    }
   ],
   "source": [
    "tf.__version__"
   ]
  },
  {
   "cell_type": "markdown",
   "id": "0cc752e2",
   "metadata": {},
   "source": [
    "## Part 1 - Preprocessing"
   ]
  },
  {
   "cell_type": "markdown",
   "id": "ab8e6e14",
   "metadata": {},
   "source": [
    "### Processing the Training set"
   ]
  },
  {
   "cell_type": "code",
   "execution_count": 55,
   "id": "97e015c5",
   "metadata": {},
   "outputs": [
    {
     "name": "stdout",
     "output_type": "stream",
     "text": [
      "Found 8000 images belonging to 2 classes.\n"
     ]
    }
   ],
   "source": [
    "# Rescale is technically Feature scaling the Pixels available to make them come between specific values\n",
    "# Class_mode is used to check if we need to get Binary outcome or Classified outcome\n",
    "\n",
    "train_datagen = ImageDataGenerator(\n",
    "    rescale = 1./255,\n",
    "    shear_range = 0.2,\n",
    "    zoom_range = 0.2,\n",
    "    horizontal_flip = True\n",
    ")\n",
    "training_set = train_datagen.flow_from_directory(\n",
    "    'dataset/training_set',\n",
    "    target_size = (64, 64),\n",
    "    batch_size = 32,\n",
    "    class_mode = 'binary'\n",
    ")"
   ]
  },
  {
   "cell_type": "markdown",
   "id": "f37e98d1",
   "metadata": {},
   "source": [
    "### Processing the Test set"
   ]
  },
  {
   "cell_type": "code",
   "execution_count": 56,
   "id": "2d152f59",
   "metadata": {},
   "outputs": [
    {
     "name": "stdout",
     "output_type": "stream",
     "text": [
      "Found 2000 images belonging to 2 classes.\n"
     ]
    }
   ],
   "source": [
    "test_datagen = ImageDataGenerator(\n",
    "    rescale = 1./255,\n",
    ")\n",
    "test_set = test_datagen.flow_from_directory(\n",
    "    'dataset/test_set',\n",
    "    target_size = (64, 64),\n",
    "    batch_size = 32,\n",
    "    class_mode = 'binary'\n",
    ")"
   ]
  },
  {
   "cell_type": "markdown",
   "id": "6cc4afcb",
   "metadata": {},
   "source": [
    "## Part 2 - Building a CNN"
   ]
  },
  {
   "cell_type": "markdown",
   "id": "07817b0e",
   "metadata": {},
   "source": [
    "### Initialising the CNN"
   ]
  },
  {
   "cell_type": "code",
   "execution_count": 57,
   "id": "8637dc30",
   "metadata": {},
   "outputs": [],
   "source": [
    "cnn = tf.keras.models.Sequential()"
   ]
  },
  {
   "cell_type": "markdown",
   "id": "2928396d",
   "metadata": {},
   "source": [
    "### Step 1 - Convolution"
   ]
  },
  {
   "cell_type": "code",
   "execution_count": 58,
   "id": "d1f1cdfc",
   "metadata": {},
   "outputs": [],
   "source": [
    "cnn.add(\n",
    "    tf.keras.layers.Conv2D(\n",
    "        filters = 32, \n",
    "        kernel_size = 3, \n",
    "        activation = 'relu', \n",
    "        input_shape = [64, 64, 3]\n",
    "    )\n",
    ")"
   ]
  },
  {
   "cell_type": "markdown",
   "id": "6de88229",
   "metadata": {},
   "source": [
    "### Step 2 - Pooling"
   ]
  },
  {
   "cell_type": "code",
   "execution_count": 59,
   "id": "0b0236f7",
   "metadata": {},
   "outputs": [],
   "source": [
    "cnn.add(\n",
    "    tf.keras.layers.MaxPool2D(\n",
    "        pool_size = 2,\n",
    "        strides = 2\n",
    "    )\n",
    ")"
   ]
  },
  {
   "cell_type": "markdown",
   "id": "69ebfdb5",
   "metadata": {},
   "source": [
    "### Adding Second Convolution Layer"
   ]
  },
  {
   "cell_type": "code",
   "execution_count": 60,
   "id": "bdcc1e57",
   "metadata": {},
   "outputs": [],
   "source": [
    "# On 2nd Layer we don't have to mention the Input_Layer detail\n",
    "\n",
    "cnn.add(\n",
    "    tf.keras.layers.Conv2D(\n",
    "        filters = 32, \n",
    "        kernel_size = 3, \n",
    "        activation = 'relu', \n",
    "    )\n",
    ")\n",
    "cnn.add(\n",
    "    tf.keras.layers.MaxPool2D(\n",
    "        pool_size = 2,\n",
    "        strides = 2\n",
    "    )\n",
    ")"
   ]
  },
  {
   "cell_type": "markdown",
   "id": "dbc17a7b",
   "metadata": {},
   "source": [
    "### Step 3 - Flattening"
   ]
  },
  {
   "cell_type": "code",
   "execution_count": 61,
   "id": "48676c0c",
   "metadata": {},
   "outputs": [],
   "source": [
    "cnn.add(\n",
    "    tf.keras.layers.Flatten()\n",
    ")"
   ]
  },
  {
   "cell_type": "markdown",
   "id": "445e1876",
   "metadata": {},
   "source": [
    "### Step 4 - Full Connection"
   ]
  },
  {
   "cell_type": "code",
   "execution_count": 62,
   "id": "c1d3eae5",
   "metadata": {},
   "outputs": [],
   "source": [
    "cnn.add(\n",
    "    tf.keras.layers.Dense(\n",
    "        units = 128,\n",
    "        activation = 'relu'\n",
    "    )\n",
    ")"
   ]
  },
  {
   "cell_type": "markdown",
   "id": "05241482",
   "metadata": {},
   "source": [
    "### Step 5 - Output Layer"
   ]
  },
  {
   "cell_type": "code",
   "execution_count": 63,
   "id": "ebbaf3e8",
   "metadata": {},
   "outputs": [],
   "source": [
    "cnn.add(\n",
    "    tf.keras.layers.Dense(\n",
    "        units = 1,\n",
    "        activation = 'sigmoid'\n",
    "    )\n",
    ")"
   ]
  },
  {
   "cell_type": "markdown",
   "id": "63cf443e",
   "metadata": {},
   "source": [
    "## Part 3 - Training the CNN"
   ]
  },
  {
   "cell_type": "markdown",
   "id": "03dff5de",
   "metadata": {},
   "source": [
    "### Compiling the CNN"
   ]
  },
  {
   "cell_type": "code",
   "execution_count": 64,
   "id": "ff24f600",
   "metadata": {},
   "outputs": [],
   "source": [
    "cnn.compile(optimizer = 'adam', loss = 'binary_crossentropy', metrics = ['accuracy'])"
   ]
  },
  {
   "cell_type": "markdown",
   "id": "ca6b83c3",
   "metadata": {},
   "source": [
    "### Training the CNN on the Training set and testing it on the Test Set"
   ]
  },
  {
   "cell_type": "code",
   "execution_count": 65,
   "id": "28b93464",
   "metadata": {},
   "outputs": [
    {
     "name": "stdout",
     "output_type": "stream",
     "text": [
      "Epoch 1/25\n",
      "WARNING:tensorflow:From C:\\Users\\suriya.palanivel\\Anaconda3\\lib\\site-packages\\keras\\src\\utils\\tf_utils.py:492: The name tf.ragged.RaggedTensorValue is deprecated. Please use tf.compat.v1.ragged.RaggedTensorValue instead.\n",
      "\n",
      "WARNING:tensorflow:From C:\\Users\\suriya.palanivel\\Anaconda3\\lib\\site-packages\\keras\\src\\engine\\base_layer_utils.py:384: The name tf.executing_eagerly_outside_functions is deprecated. Please use tf.compat.v1.executing_eagerly_outside_functions instead.\n",
      "\n",
      "250/250 [==============================] - 113s 443ms/step - loss: 0.6708 - accuracy: 0.5925 - val_loss: 0.6630 - val_accuracy: 0.6025\n",
      "Epoch 2/25\n",
      "250/250 [==============================] - 209s 827ms/step - loss: 0.6204 - accuracy: 0.6609 - val_loss: 0.6129 - val_accuracy: 0.6715\n",
      "Epoch 3/25\n",
      "250/250 [==============================] - 137s 543ms/step - loss: 0.5762 - accuracy: 0.6994 - val_loss: 0.5549 - val_accuracy: 0.7280\n",
      "Epoch 4/25\n",
      "250/250 [==============================] - 100s 399ms/step - loss: 0.5360 - accuracy: 0.7284 - val_loss: 0.5333 - val_accuracy: 0.7365\n",
      "Epoch 5/25\n",
      "250/250 [==============================] - 77s 307ms/step - loss: 0.5025 - accuracy: 0.7504 - val_loss: 0.5332 - val_accuracy: 0.7400\n",
      "Epoch 6/25\n",
      "250/250 [==============================] - 82s 326ms/step - loss: 0.4788 - accuracy: 0.7674 - val_loss: 0.4835 - val_accuracy: 0.7695\n",
      "Epoch 7/25\n",
      "250/250 [==============================] - 153s 603ms/step - loss: 0.4595 - accuracy: 0.7810 - val_loss: 0.4830 - val_accuracy: 0.7765\n",
      "Epoch 8/25\n",
      "250/250 [==============================] - 114s 457ms/step - loss: 0.4484 - accuracy: 0.7847 - val_loss: 0.4952 - val_accuracy: 0.7670\n",
      "Epoch 9/25\n",
      "250/250 [==============================] - 95s 379ms/step - loss: 0.4241 - accuracy: 0.8070 - val_loss: 0.4762 - val_accuracy: 0.7810\n",
      "Epoch 10/25\n",
      "250/250 [==============================] - 86s 344ms/step - loss: 0.4115 - accuracy: 0.8079 - val_loss: 0.4707 - val_accuracy: 0.7945\n",
      "Epoch 11/25\n",
      "250/250 [==============================] - 74s 297ms/step - loss: 0.4018 - accuracy: 0.8167 - val_loss: 0.4574 - val_accuracy: 0.8005\n",
      "Epoch 12/25\n",
      "250/250 [==============================] - 71s 282ms/step - loss: 0.3873 - accuracy: 0.8242 - val_loss: 0.4887 - val_accuracy: 0.7810\n",
      "Epoch 13/25\n",
      "250/250 [==============================] - 71s 285ms/step - loss: 0.3624 - accuracy: 0.8359 - val_loss: 0.4500 - val_accuracy: 0.7970\n",
      "Epoch 14/25\n",
      "250/250 [==============================] - 71s 282ms/step - loss: 0.3415 - accuracy: 0.8512 - val_loss: 0.4690 - val_accuracy: 0.8080\n",
      "Epoch 15/25\n",
      "250/250 [==============================] - 71s 282ms/step - loss: 0.3259 - accuracy: 0.8564 - val_loss: 0.4616 - val_accuracy: 0.8000\n",
      "Epoch 16/25\n",
      "250/250 [==============================] - 70s 280ms/step - loss: 0.3041 - accuracy: 0.8700 - val_loss: 0.4942 - val_accuracy: 0.7930\n",
      "Epoch 17/25\n",
      "250/250 [==============================] - 73s 289ms/step - loss: 0.2940 - accuracy: 0.8740 - val_loss: 0.5216 - val_accuracy: 0.7845\n",
      "Epoch 18/25\n",
      "250/250 [==============================] - 71s 282ms/step - loss: 0.2693 - accuracy: 0.8861 - val_loss: 0.5300 - val_accuracy: 0.7925\n",
      "Epoch 19/25\n",
      "250/250 [==============================] - 71s 283ms/step - loss: 0.2611 - accuracy: 0.8869 - val_loss: 0.5419 - val_accuracy: 0.8000\n",
      "Epoch 20/25\n",
      "250/250 [==============================] - 71s 285ms/step - loss: 0.2505 - accuracy: 0.8935 - val_loss: 0.5545 - val_accuracy: 0.8030\n",
      "Epoch 21/25\n",
      "250/250 [==============================] - 72s 287ms/step - loss: 0.2367 - accuracy: 0.9014 - val_loss: 0.5184 - val_accuracy: 0.7965\n",
      "Epoch 22/25\n",
      "250/250 [==============================] - 72s 287ms/step - loss: 0.2174 - accuracy: 0.9097 - val_loss: 0.5912 - val_accuracy: 0.7920\n",
      "Epoch 23/25\n",
      "250/250 [==============================] - 68s 273ms/step - loss: 0.2063 - accuracy: 0.9214 - val_loss: 0.5420 - val_accuracy: 0.8015\n",
      "Epoch 24/25\n",
      "250/250 [==============================] - 68s 272ms/step - loss: 0.1934 - accuracy: 0.9235 - val_loss: 0.5990 - val_accuracy: 0.8000\n",
      "Epoch 25/25\n",
      "250/250 [==============================] - 68s 273ms/step - loss: 0.1848 - accuracy: 0.9264 - val_loss: 0.5949 - val_accuracy: 0.7985\n"
     ]
    },
    {
     "data": {
      "text/plain": [
       "<keras.src.callbacks.History at 0x1ef865ca280>"
      ]
     },
     "execution_count": 65,
     "metadata": {},
     "output_type": "execute_result"
    }
   ],
   "source": [
    "cnn.fit(x = training_set, validation_data = test_set, epochs = 25)"
   ]
  },
  {
   "cell_type": "markdown",
   "id": "4d7f5bf9",
   "metadata": {},
   "source": [
    "## Part 4 - Making a single prediction"
   ]
  },
  {
   "cell_type": "code",
   "execution_count": 66,
   "id": "344f40b0",
   "metadata": {},
   "outputs": [
    {
     "data": {
      "text/plain": [
       "{'cats': 0, 'dogs': 1}"
      ]
     },
     "execution_count": 66,
     "metadata": {},
     "output_type": "execute_result"
    }
   ],
   "source": [
    "# Class_indices is used to check what is what (eg : Output will be 0 but we don't know 0 is either Cat or Dog so using Class_indices)\n",
    "training_set.class_indices"
   ]
  },
  {
   "cell_type": "code",
   "execution_count": 76,
   "id": "da0bad1e",
   "metadata": {},
   "outputs": [
    {
     "name": "stdout",
     "output_type": "stream",
     "text": [
      "1/1 [==============================] - 0s 36ms/step\n",
      "[[0.999999]]\n"
     ]
    }
   ],
   "source": [
    "# Image must be as same target size mentioned during the training time.\n",
    "# Testing Image must be converted to Array before making the prediction.\n",
    "\n",
    "from keras.preprocessing import image\n",
    "test_image = image.load_img(\n",
    "    'dataset\\single_prediction\\cat_or_dog_1.jpg',\n",
    "    target_size = (64, 64)\n",
    ")\n",
    "\n",
    "test_image = image.img_to_array(test_image)\n",
    "\n",
    "test_image = np.expand_dims(\n",
    "    test_image,\n",
    "    axis = 0,\n",
    ")\n",
    "\n",
    "result = cnn.predict(test_image/255.0)\n",
    "print(result)\n",
    "\n",
    "if result[0][0] > 0.5:\n",
    "    prediction = \"Dog\"\n",
    "else:\n",
    "    prediction = \"Cat\""
   ]
  },
  {
   "cell_type": "code",
   "execution_count": 77,
   "id": "3ae0e3ad",
   "metadata": {},
   "outputs": [
    {
     "name": "stdout",
     "output_type": "stream",
     "text": [
      "Dog\n"
     ]
    }
   ],
   "source": [
    "print(prediction)"
   ]
  },
  {
   "cell_type": "code",
   "execution_count": null,
   "id": "84ad38d5",
   "metadata": {},
   "outputs": [],
   "source": []
  },
  {
   "cell_type": "code",
   "execution_count": null,
   "id": "3ce4c186",
   "metadata": {},
   "outputs": [],
   "source": []
  }
 ],
 "metadata": {
  "kernelspec": {
   "display_name": "Python 3 (ipykernel)",
   "language": "python",
   "name": "python3"
  },
  "language_info": {
   "codemirror_mode": {
    "name": "ipython",
    "version": 3
   },
   "file_extension": ".py",
   "mimetype": "text/x-python",
   "name": "python",
   "nbconvert_exporter": "python",
   "pygments_lexer": "ipython3",
   "version": "3.9.13"
  }
 },
 "nbformat": 4,
 "nbformat_minor": 5
}
